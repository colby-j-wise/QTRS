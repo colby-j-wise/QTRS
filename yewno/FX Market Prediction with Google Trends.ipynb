{
 "cells": [
  {
   "cell_type": "markdown",
   "metadata": {},
   "source": [
    "## <center> FX Market Prediction using Machine Learning and Google Trend Data </center>"
   ]
  },
  {
   "cell_type": "markdown",
   "metadata": {},
   "source": [
    "### Google Trends Data\n",
    "\n",
    "Google Trends allows you to search for a particular topic on Google or a specific set of search terms. With it you can see search interest in a topic over time. Search interest is an index of the volume of Google queries by geographic location and category. For instance, we can search for 'Real Estate' within the 'United States'and get search interest dating back several year.\n",
    "\n",
    "Importantly, the Trends data is not the raw level of queries but a 'query index'. The index starts with the query share: the total query volume for search term in a given geographic region divided by the total number of queries in that region at a point in time."
   ]
  },
  {
   "cell_type": "markdown",
   "metadata": {},
   "source": [
    "### Predicting FX Market Changes\n",
    "\n",
    "In this notebook we will explore Google Trend data that includes relative search volumes for roughly for country-level search terms broken down by specific categories. The hypothesis is that worldwide country-specific search categories such as 'Europe Business News', 'US Financial Markets', 'Canada(ian) Politics', etc can be used to predict FX currency pair changes.\n",
    "\n",
    "The idea is to see if there exist a tradeable pattern, that an machine learning classifier can learn, that captures the public's 'mood', 'concerns', or 'fears' and leads to significant forecasts. Note we will attempt to predict a FX pair movement of '+1' = positive return or '-1' = negative return."
   ]
  },
  {
   "cell_type": "markdown",
   "metadata": {},
   "source": [
    "#### \\*Search Term Bias\n",
    "\n",
    "Given limited time, we take a biased search term approach and chose search terms based on fundamental 'intution'  vs other more robust approaches. As such we choose search keywords related to various News subcategories: financial market, economic market, fiscal policy news, politics."
   ]
  },
  {
   "cell_type": "markdown",
   "metadata": {},
   "source": [
    "### FX Data\n",
    "\n",
    "Besides the Google Trend API data, FX market data is obtained freely from [Forex Forum](http://www.global-view.com/forex-trading-tools/forex-history/index.html). For here we obtain weekly FX pair price levels from **4/2013 to 4/2018** for currency pairs:\n",
    "\n",
    "<center> **EUR/USD, EUR/GBP, USD/CAD** </center>"
   ]
  },
  {
   "cell_type": "code",
   "execution_count": 1,
   "metadata": {
    "collapsed": true
   },
   "outputs": [],
   "source": [
    "from src.fx_preprocessing import *"
   ]
  },
  {
   "cell_type": "markdown",
   "metadata": {},
   "source": [
    "## Preprocessing"
   ]
  },
  {
   "cell_type": "code",
   "execution_count": 3,
   "metadata": {
    "collapsed": true
   },
   "outputs": [],
   "source": [
    "# Included 'Real Estate' subcategories\n",
    "news_categories = {\n",
    "                    784 : \"Biz_News\",   #Business News\n",
    "                    1163: \"FMrkt_News\", #Financial Markets News\n",
    "                    1164: \"Econ_News\",  #Economy News\n",
    "                    1165: \"Fis_News\",   #Fiscal Policy News\n",
    "                    396 : \"Pol_News\",   #Politics\n",
    "                    112 : \"BN_News\",    #Broadcast & Network News\n",
    "                }\n",
    "\n",
    "travel_categories = {\n",
    "                    1010: \"TravelAgncs\", #Travel Agencies\n",
    "                    203 : \"AirTravel\",   #Air Travel\n",
    "                    1004: \"SpecialTrvl\", #Specialty Travel\n",
    "                    208:  \"TourDest\"     #Tourist Destinations: \n",
    "                    }"
   ]
  },
  {
   "cell_type": "code",
   "execution_count": 211,
   "metadata": {
    "collapsed": true
   },
   "outputs": [],
   "source": [
    "search_key1 = \"US\"\n",
    "search_key2 = \"Europe\"\n",
    "#search_key3 = \"United Kingdom\"\n",
    "#search_key4 = \"Canada\"\n",
    "\n",
    "us_GTNews = get_search_data(search_key1, news_categories)\n",
    "eu_GTNews = get_search_data(search_key2, news_categories)\n",
    "us_GTravel = get_search_data(search_key1, travel_categories)\n",
    "eu_GTravel = get_search_data(search_key2, travel_categories)"
   ]
  },
  {
   "cell_type": "markdown",
   "metadata": {},
   "source": [
    "### Load Google Trend Data & FX Data"
   ]
  },
  {
   "cell_type": "code",
   "execution_count": 180,
   "metadata": {
    "collapsed": true
   },
   "outputs": [],
   "source": [
    "search_key1 = \"US\"\n",
    "search_key2 = \"Europe\"\n",
    "fileName = 'exchange.csv'\n",
    "\n",
    "data = run_preprocessing(fileName, search_key1, search_key2, news_categories, travel_categories)"
   ]
  },
  {
   "cell_type": "markdown",
   "metadata": {},
   "source": [
    "## Building Naive Bayes/SVM Classifier"
   ]
  },
  {
   "cell_type": "code",
   "execution_count": 181,
   "metadata": {
    "collapsed": true
   },
   "outputs": [],
   "source": [
    "train_start = '2013-01-01'\n",
    "test_start = '2017-05-01'\n",
    "\n",
    "train_data, test_data = test_train_split(data, train_start, test_start)"
   ]
  },
  {
   "cell_type": "code",
   "execution_count": 182,
   "metadata": {},
   "outputs": [
    {
     "name": "stdout",
     "output_type": "stream",
     "text": [
      "Number of training observations:  188\n",
      "Number of testing observations:  50\n"
     ]
    }
   ],
   "source": [
    "print(\"Number of training observations: \", len(train_data))\n",
    "print(\"Number of testing observations: \", len(test_data))"
   ]
  },
  {
   "cell_type": "code",
   "execution_count": 197,
   "metadata": {
    "collapsed": true
   },
   "outputs": [],
   "source": [
    "from sklearn.svm import OneClassSVM, SVC\n",
    "from sklearn.naive_bayes import GaussianNB\n",
    "from sklearn.metrics import confusion_matrix\n",
    "from sklearn import metrics "
   ]
  },
  {
   "cell_type": "markdown",
   "metadata": {},
   "source": [
    "#### Note the '_x' and '_y' are results of combining EUR and USD Google Trends data. Can clean up in future"
   ]
  },
  {
   "cell_type": "code",
   "execution_count": 184,
   "metadata": {},
   "outputs": [
    {
     "data": {
      "text/plain": [
       "Index(['BN_News_x', 'Pol_News_x', 'Fis_News_x', 'Econ_News_x', 'FMrkt_News_x',\n",
       "       'Biz_News_x', 'date_orig_y', 'TourDest_x', 'SpecialTrvl_x',\n",
       "       'AirTravel_x', 'TravelAgncs_x', 'BN_News_y', 'Pol_News_y', 'Fis_News_y',\n",
       "       'Econ_News_y', 'FMrkt_News_y', 'Biz_News_y', 'date_orig_y',\n",
       "       'TourDest_y', 'SpecialTrvl_y', 'AirTravel_y', 'TravelAgncs_y',\n",
       "       'date_orig', 'EUR/GBP Close', 'USD/CAD Close', 'EUR/USD Close'],\n",
       "      dtype='object')"
      ]
     },
     "execution_count": 184,
     "metadata": {},
     "output_type": "execute_result"
    }
   ],
   "source": [
    "train_data.columns"
   ]
  },
  {
   "cell_type": "code",
   "execution_count": 185,
   "metadata": {
    "collapsed": true
   },
   "outputs": [],
   "source": [
    "features = set(data.columns)-set(['index', 'USD/CAD Close', 'EUR/GBP Close', 'EUR/USD Close',\n",
    "                                  'GBP/USD Close', 'date_orig_x', 'date_orig_y', 'date_orig'])\n",
    "y_train = train_data['EUR/USD Close']\n",
    "X_train = train_data[list(features)]"
   ]
  },
  {
   "cell_type": "code",
   "execution_count": 193,
   "metadata": {},
   "outputs": [
    {
     "data": {
      "text/plain": [
       "OneClassSVM(cache_size=200, coef0=0.0, degree=3, gamma=0.1, kernel='linear',\n",
       "      max_iter=-1, nu=0.05, random_state=None, shrinking=True, tol=0.001,\n",
       "      verbose=False)"
      ]
     },
     "execution_count": 193,
     "metadata": {},
     "output_type": "execute_result"
    }
   ],
   "source": [
    "model = OneClassSVM(kernel='linear', nu=0.05, gamma=0.1)\n",
    "# model = SVC(C=0.5, gamma=0.01)\n",
    "model.fit(X_train, y_train)"
   ]
  },
  {
   "cell_type": "markdown",
   "metadata": {},
   "source": [
    "### Result\n",
    "\n",
    "Ran of time and wanted to test other more powerful classifers like decision tree, emsemble methods, or even shallow Neural Net. but see some initial promising results for the classifier. More analysis is needed but it appears Google Trends has some predictive power on EUR/USD cross but deep/better out of sample testing is required."
   ]
  },
  {
   "cell_type": "markdown",
   "metadata": {},
   "source": [
    "#### OneClassSVM"
   ]
  },
  {
   "cell_type": "code",
   "execution_count": 196,
   "metadata": {},
   "outputs": [
    {
     "name": "stdout",
     "output_type": "stream",
     "text": [
      "accuracy:  0.5\n",
      "precision:  0.5625\n",
      "recall:  0.620689655172\n",
      "f1:  0.590163934426\n",
      "area under curve (auc):  0.477011494253\n"
     ]
    }
   ],
   "source": [
    "preds = model.predict(X_test)\n",
    "targs = y_test\n",
    "\n",
    "print(\"accuracy: \", metrics.accuracy_score(targs, preds))  \n",
    "print(\"precision: \", metrics.precision_score(targs, preds))  \n",
    "print(\"recall: \", metrics.recall_score(targs, preds))  \n",
    "print(\"f1: \", metrics.f1_score(targs, preds))  \n",
    "print(\"area under curve (auc): \", metrics.roc_auc_score(targs, preds)) "
   ]
  },
  {
   "cell_type": "markdown",
   "metadata": {},
   "source": [
    "#### Gaussian Naive Bayes"
   ]
  },
  {
   "cell_type": "code",
   "execution_count": 199,
   "metadata": {},
   "outputs": [
    {
     "name": "stdout",
     "output_type": "stream",
     "text": [
      "Model in sample train score:  0.67\n",
      "\n",
      "Historical % up weeks:  0.51\n"
     ]
    }
   ],
   "source": [
    "model = GaussianNB()\n",
    "model.fit(X_train, y_train)\n",
    "\n",
    "# In sample score\n",
    "in_sample_score = model.score(X_train, y_train)\n",
    "print(\"Model in sample train score: \", round(in_sample_score,2))\n",
    "print()\n",
    "# in-sample historical percent up weeks for pair\n",
    "per_up_weeks = ((y_train + 1)/2).mean()\n",
    "print(\"Historical % up weeks: \", round(per_up_weeks,2))"
   ]
  },
  {
   "cell_type": "code",
   "execution_count": 189,
   "metadata": {},
   "outputs": [
    {
     "name": "stdout",
     "output_type": "stream",
     "text": [
      "Model in sample train score:  0.46\n",
      "\n",
      "Historical % up weeks:  0.58\n"
     ]
    }
   ],
   "source": [
    "y_test = test_data['EUR/USD Close']\n",
    "X_test = test_data[list(features)]\n",
    "\n",
    "# Test sample score\n",
    "in_sample_score = model.score(X_test, y_test)\n",
    "print(\"Model in sample train score: \", in_sample_score)\n",
    "print()\n",
    "# test-sample historical percent up weeks for pair\n",
    "per_up_weeks = ((y_test + 1)/2).mean()\n",
    "print(\"Historical % up weeks: \", per_up_weeks)"
   ]
  },
  {
   "cell_type": "code",
   "execution_count": 194,
   "metadata": {},
   "outputs": [
    {
     "name": "stdout",
     "output_type": "stream",
     "text": [
      "CONFUSION MATRIX\n",
      "[[ 7 14]\n",
      " [11 18]]\n",
      "\n",
      "true pos:  18\n",
      "true neg:  7\n",
      "false pos:  14\n",
      "false neg:  11\n"
     ]
    }
   ],
   "source": [
    "print(\"CONFUSION MATRIX\")\n",
    "y_pred = model.predict(X_test)\n",
    "conf_mat = confusion_matrix(y_test, y_pred)\n",
    "print(conf_mat)\n",
    "#In the binary case, we can extract true positives, etc as follows:\n",
    "tn, fp, fn, tp = conf_mat.ravel()\n",
    "print()\n",
    "print(\"true pos: \", tp)\n",
    "print(\"true neg: \", tn)\n",
    "print(\"false pos: \", fp)\n",
    "print(\"false neg: \", fn)"
   ]
  },
  {
   "cell_type": "markdown",
   "metadata": {},
   "source": [
    "## Cointegration Test"
   ]
  },
  {
   "cell_type": "code",
   "execution_count": 120,
   "metadata": {
    "collapsed": true
   },
   "outputs": [],
   "source": [
    "from statsmodels.tsa.stattools import adfuller\n",
    "from statsmodels.tsa.stattools import coint\n"
   ]
  },
  {
   "cell_type": "code",
   "execution_count": 107,
   "metadata": {
    "collapsed": true
   },
   "outputs": [],
   "source": [
    "def ADF(v, crit='5%', max_d=6, reg='nc', autolag='AIC'):\n",
    "    \"\"\" \n",
    "    Augmented Dickey Fuller test\n",
    "\n",
    "    Parameters\n",
    "    ----------\n",
    "    v: ndarray matrix\n",
    "        residuals matrix\n",
    "\n",
    "    Returns\n",
    "    -------\n",
    "    bool: boolean\n",
    "        true if v pass the test \n",
    "    \"\"\"\n",
    "\n",
    "    boolean = False\n",
    "\n",
    "    adf = adfuller(v, max_d, reg, autolag)\n",
    "    print(\"adf: \", adf)\n",
    "    if(adf[0] < adf[4][crit]):\n",
    "        pass\n",
    "    else:\n",
    "        boolean = True\n",
    "    return boolean"
   ]
  },
  {
   "cell_type": "markdown",
   "metadata": {},
   "source": [
    "Here I attempt to use statsmodels Johansen Test to test for cointegration. According to Johansen, there is a linear stationary combination of the factors with order of integration 0 with over 95% confidence. Thus there exists an opportunity for pairs trading. The Google Trends metholody we built is not directly investable however.\n",
    "\n",
    "I ran out of time to perfect the johnansen test for the multivariate case (the current implementation is only the univariate case -- where's R when you need it!) But running the univariate case on several factors shows that the Google Trend series and EUR/USD is cointegrated. From here the final small step would be to go long EUR/USD when the model predict a weekly increase (and short when predicts decrease) then check profitability of the algorithm.\n",
    "\n",
    "Simiarly its worth while to test ADF since we did not do that clearly before."
   ]
  },
  {
   "cell_type": "code",
   "execution_count": 148,
   "metadata": {},
   "outputs": [
    {
     "name": "stdout",
     "output_type": "stream",
     "text": [
      "adf:  (-13.421114550940748, 2.1427208940816457e-24, 0, 187, {'1%': -2.5777998701707228, '5%': -1.9425278169832012, '10%': -1.6154734119830811}, 515.65022407389051)\n",
      "\n",
      "ADF Test Result:  False\n"
     ]
    }
   ],
   "source": [
    "print(\"\\nADF Test Result: \", ADF(y_train))"
   ]
  },
  {
   "cell_type": "code",
   "execution_count": 146,
   "metadata": {},
   "outputs": [
    {
     "name": "stdout",
     "output_type": "stream",
     "text": [
      "EUR/USD vs FMrkt_News_x\n",
      "t-statistic of unit-root test on residuals: \n",
      " {'SpecialTrvl_y', 'TourDest_y', 'Fis_News_x', 'Biz_News_y', 'EUR/USD Close', 'TravelAgncs_y', 'Econ_News_y', 'Fis_News_y', 'TourDest_x', 'BN_News_y', 'FMrkt_News_y', 'Pol_News_y', 'FMrkt_News_x', 'TravelAgncs_x', 'BN_News_x', 'SpecialTrvl_x', 'AirTravel_x', 'AirTravel_y', 'Biz_News_x', 'Econ_News_x', 'Pol_News_x'}\n",
      "pvalue: \n",
      " 0.296901157286\n",
      "Critical values: \n",
      " [-3.95596507 -3.36899945 -3.067208  ]\n",
      "EUR/USD vs AirTravel_x\n",
      "t-statistic of unit-root test on residuals: \n",
      " {'SpecialTrvl_y', 'TourDest_y', 'Fis_News_x', 'Biz_News_y', 'EUR/USD Close', 'TravelAgncs_y', 'Econ_News_y', 'Fis_News_y', 'TourDest_x', 'BN_News_y', 'FMrkt_News_y', 'Pol_News_y', 'FMrkt_News_x', 'TravelAgncs_x', 'BN_News_x', 'SpecialTrvl_x', 'AirTravel_x', 'AirTravel_y', 'Biz_News_x', 'Econ_News_x', 'Pol_News_x'}\n",
      "pvalue: \n",
      " 0.296901157286\n",
      "Critical values: \n",
      " [-3.95596507 -3.36899945 -3.067208  ]\n",
      "EUR/USD vs AirTravel_y\n",
      "t-statistic of unit-root test on residuals: \n",
      " {'SpecialTrvl_y', 'TourDest_y', 'Fis_News_x', 'Biz_News_y', 'EUR/USD Close', 'TravelAgncs_y', 'Econ_News_y', 'Fis_News_y', 'TourDest_x', 'BN_News_y', 'FMrkt_News_y', 'Pol_News_y', 'FMrkt_News_x', 'TravelAgncs_x', 'BN_News_x', 'SpecialTrvl_x', 'AirTravel_x', 'AirTravel_y', 'Biz_News_x', 'Econ_News_x', 'Pol_News_x'}\n",
      "pvalue: \n",
      " 0.296901157286\n",
      "Critical values: \n",
      " [-3.95596507 -3.36899945 -3.067208  ]\n",
      "EUR/USD vs SpecialTrvl_y\n",
      "t-statistic of unit-root test on residuals: \n",
      " {'SpecialTrvl_y', 'TourDest_y', 'Fis_News_x', 'Biz_News_y', 'EUR/USD Close', 'TravelAgncs_y', 'Econ_News_y', 'Fis_News_y', 'TourDest_x', 'BN_News_y', 'FMrkt_News_y', 'Pol_News_y', 'FMrkt_News_x', 'TravelAgncs_x', 'BN_News_x', 'SpecialTrvl_x', 'AirTravel_x', 'AirTravel_y', 'Biz_News_x', 'Econ_News_x', 'Pol_News_x'}\n",
      "pvalue: \n",
      " 0.296901157286\n",
      "Critical values: \n",
      " [-3.95596507 -3.36899945 -3.067208  ]\n",
      "EUR/USD vs TravelAgncs_x\n",
      "t-statistic of unit-root test on residuals: \n",
      " {'SpecialTrvl_y', 'TourDest_y', 'Fis_News_x', 'Biz_News_y', 'EUR/USD Close', 'TravelAgncs_y', 'Econ_News_y', 'Fis_News_y', 'TourDest_x', 'BN_News_y', 'FMrkt_News_y', 'Pol_News_y', 'FMrkt_News_x', 'TravelAgncs_x', 'BN_News_x', 'SpecialTrvl_x', 'AirTravel_x', 'AirTravel_y', 'Biz_News_x', 'Econ_News_x', 'Pol_News_x'}\n",
      "pvalue: \n",
      " 0.296901157286\n",
      "Critical values: \n",
      " [-3.95596507 -3.36899945 -3.067208  ]\n",
      "EUR/USD vs Pol_News_x\n",
      "t-statistic of unit-root test on residuals: \n",
      " {'SpecialTrvl_y', 'TourDest_y', 'Fis_News_x', 'Biz_News_y', 'EUR/USD Close', 'TravelAgncs_y', 'Econ_News_y', 'Fis_News_y', 'TourDest_x', 'BN_News_y', 'FMrkt_News_y', 'Pol_News_y', 'FMrkt_News_x', 'TravelAgncs_x', 'BN_News_x', 'SpecialTrvl_x', 'AirTravel_x', 'AirTravel_y', 'Biz_News_x', 'Econ_News_x', 'Pol_News_x'}\n",
      "pvalue: \n",
      " 0.296901157286\n",
      "Critical values: \n",
      " [-3.95596507 -3.36899945 -3.067208  ]\n",
      "EUR/USD vs Econ_News_y\n",
      "t-statistic of unit-root test on residuals: \n",
      " {'SpecialTrvl_y', 'TourDest_y', 'Fis_News_x', 'Biz_News_y', 'EUR/USD Close', 'TravelAgncs_y', 'Econ_News_y', 'Fis_News_y', 'TourDest_x', 'BN_News_y', 'FMrkt_News_y', 'Pol_News_y', 'FMrkt_News_x', 'TravelAgncs_x', 'BN_News_x', 'SpecialTrvl_x', 'AirTravel_x', 'AirTravel_y', 'Biz_News_x', 'Econ_News_x', 'Pol_News_x'}\n",
      "pvalue: \n",
      " 0.296901157286\n",
      "Critical values: \n",
      " [-3.95596507 -3.36899945 -3.067208  ]\n",
      "EUR/USD vs Biz_News_x\n",
      "t-statistic of unit-root test on residuals: \n",
      " {'SpecialTrvl_y', 'TourDest_y', 'Fis_News_x', 'Biz_News_y', 'EUR/USD Close', 'TravelAgncs_y', 'Econ_News_y', 'Fis_News_y', 'TourDest_x', 'BN_News_y', 'FMrkt_News_y', 'Pol_News_y', 'FMrkt_News_x', 'TravelAgncs_x', 'BN_News_x', 'SpecialTrvl_x', 'AirTravel_x', 'AirTravel_y', 'Biz_News_x', 'Econ_News_x', 'Pol_News_x'}\n",
      "pvalue: \n",
      " 0.296901157286\n",
      "Critical values: \n",
      " [-3.95596507 -3.36899945 -3.067208  ]\n",
      "EUR/USD vs SpecialTrvl_x\n",
      "t-statistic of unit-root test on residuals: \n",
      " {'SpecialTrvl_y', 'TourDest_y', 'Fis_News_x', 'Biz_News_y', 'EUR/USD Close', 'TravelAgncs_y', 'Econ_News_y', 'Fis_News_y', 'TourDest_x', 'BN_News_y', 'FMrkt_News_y', 'Pol_News_y', 'FMrkt_News_x', 'TravelAgncs_x', 'BN_News_x', 'SpecialTrvl_x', 'AirTravel_x', 'AirTravel_y', 'Biz_News_x', 'Econ_News_x', 'Pol_News_x'}\n",
      "pvalue: \n",
      " 0.296901157286\n",
      "Critical values: \n",
      " [-3.95596507 -3.36899945 -3.067208  ]\n",
      "EUR/USD vs Econ_News_x\n",
      "t-statistic of unit-root test on residuals: \n",
      " {'SpecialTrvl_y', 'TourDest_y', 'Fis_News_x', 'Biz_News_y', 'EUR/USD Close', 'TravelAgncs_y', 'Econ_News_y', 'Fis_News_y', 'TourDest_x', 'BN_News_y', 'FMrkt_News_y', 'Pol_News_y', 'FMrkt_News_x', 'TravelAgncs_x', 'BN_News_x', 'SpecialTrvl_x', 'AirTravel_x', 'AirTravel_y', 'Biz_News_x', 'Econ_News_x', 'Pol_News_x'}\n",
      "pvalue: \n",
      " 0.296901157286\n",
      "Critical values: \n",
      " [-3.95596507 -3.36899945 -3.067208  ]\n",
      "EUR/USD vs TravelAgncs_y\n",
      "t-statistic of unit-root test on residuals: \n",
      " {'SpecialTrvl_y', 'TourDest_y', 'Fis_News_x', 'Biz_News_y', 'EUR/USD Close', 'TravelAgncs_y', 'Econ_News_y', 'Fis_News_y', 'TourDest_x', 'BN_News_y', 'FMrkt_News_y', 'Pol_News_y', 'FMrkt_News_x', 'TravelAgncs_x', 'BN_News_x', 'SpecialTrvl_x', 'AirTravel_x', 'AirTravel_y', 'Biz_News_x', 'Econ_News_x', 'Pol_News_x'}\n",
      "pvalue: \n",
      " 0.296901157286\n",
      "Critical values: \n",
      " [-3.95596507 -3.36899945 -3.067208  ]\n",
      "EUR/USD vs BN_News_x\n",
      "t-statistic of unit-root test on residuals: \n",
      " {'SpecialTrvl_y', 'TourDest_y', 'Fis_News_x', 'Biz_News_y', 'EUR/USD Close', 'TravelAgncs_y', 'Econ_News_y', 'Fis_News_y', 'TourDest_x', 'BN_News_y', 'FMrkt_News_y', 'Pol_News_y', 'FMrkt_News_x', 'TravelAgncs_x', 'BN_News_x', 'SpecialTrvl_x', 'AirTravel_x', 'AirTravel_y', 'Biz_News_x', 'Econ_News_x', 'Pol_News_x'}\n",
      "pvalue: \n",
      " 0.296901157286\n",
      "Critical values: \n",
      " [-3.95596507 -3.36899945 -3.067208  ]\n",
      "EUR/USD vs TourDest_y\n",
      "t-statistic of unit-root test on residuals: \n",
      " {'SpecialTrvl_y', 'TourDest_y', 'Fis_News_x', 'Biz_News_y', 'EUR/USD Close', 'TravelAgncs_y', 'Econ_News_y', 'Fis_News_y', 'TourDest_x', 'BN_News_y', 'FMrkt_News_y', 'Pol_News_y', 'FMrkt_News_x', 'TravelAgncs_x', 'BN_News_x', 'SpecialTrvl_x', 'AirTravel_x', 'AirTravel_y', 'Biz_News_x', 'Econ_News_x', 'Pol_News_x'}\n",
      "pvalue: \n",
      " 0.296901157286\n",
      "Critical values: \n",
      " [-3.95596507 -3.36899945 -3.067208  ]\n",
      "EUR/USD vs Fis_News_x\n",
      "t-statistic of unit-root test on residuals: \n",
      " {'SpecialTrvl_y', 'TourDest_y', 'Fis_News_x', 'Biz_News_y', 'EUR/USD Close', 'TravelAgncs_y', 'Econ_News_y', 'Fis_News_y', 'TourDest_x', 'BN_News_y', 'FMrkt_News_y', 'Pol_News_y', 'FMrkt_News_x', 'TravelAgncs_x', 'BN_News_x', 'SpecialTrvl_x', 'AirTravel_x', 'AirTravel_y', 'Biz_News_x', 'Econ_News_x', 'Pol_News_x'}\n",
      "pvalue: \n",
      " 0.296901157286\n",
      "Critical values: \n",
      " [-3.95596507 -3.36899945 -3.067208  ]\n",
      "EUR/USD vs Fis_News_y\n",
      "t-statistic of unit-root test on residuals: \n",
      " {'SpecialTrvl_y', 'TourDest_y', 'Fis_News_x', 'Biz_News_y', 'EUR/USD Close', 'TravelAgncs_y', 'Econ_News_y', 'Fis_News_y', 'TourDest_x', 'BN_News_y', 'FMrkt_News_y', 'Pol_News_y', 'FMrkt_News_x', 'TravelAgncs_x', 'BN_News_x', 'SpecialTrvl_x', 'AirTravel_x', 'AirTravel_y', 'Biz_News_x', 'Econ_News_x', 'Pol_News_x'}\n",
      "pvalue: \n",
      " 0.296901157286\n",
      "Critical values: \n",
      " [-3.95596507 -3.36899945 -3.067208  ]\n",
      "EUR/USD vs Biz_News_y\n",
      "t-statistic of unit-root test on residuals: \n",
      " {'SpecialTrvl_y', 'TourDest_y', 'Fis_News_x', 'Biz_News_y', 'EUR/USD Close', 'TravelAgncs_y', 'Econ_News_y', 'Fis_News_y', 'TourDest_x', 'BN_News_y', 'FMrkt_News_y', 'Pol_News_y', 'FMrkt_News_x', 'TravelAgncs_x', 'BN_News_x', 'SpecialTrvl_x', 'AirTravel_x', 'AirTravel_y', 'Biz_News_x', 'Econ_News_x', 'Pol_News_x'}\n",
      "pvalue: \n",
      " 0.296901157286\n",
      "Critical values: \n",
      " [-3.95596507 -3.36899945 -3.067208  ]\n",
      "EUR/USD vs TourDest_x\n",
      "t-statistic of unit-root test on residuals: \n",
      " {'SpecialTrvl_y', 'TourDest_y', 'Fis_News_x', 'Biz_News_y', 'EUR/USD Close', 'TravelAgncs_y', 'Econ_News_y', 'Fis_News_y', 'TourDest_x', 'BN_News_y', 'FMrkt_News_y', 'Pol_News_y', 'FMrkt_News_x', 'TravelAgncs_x', 'BN_News_x', 'SpecialTrvl_x', 'AirTravel_x', 'AirTravel_y', 'Biz_News_x', 'Econ_News_x', 'Pol_News_x'}\n",
      "pvalue: \n",
      " 0.296901157286\n",
      "Critical values: \n",
      " [-3.95596507 -3.36899945 -3.067208  ]\n",
      "EUR/USD vs BN_News_y\n",
      "t-statistic of unit-root test on residuals: \n",
      " {'SpecialTrvl_y', 'TourDest_y', 'Fis_News_x', 'Biz_News_y', 'EUR/USD Close', 'TravelAgncs_y', 'Econ_News_y', 'Fis_News_y', 'TourDest_x', 'BN_News_y', 'FMrkt_News_y', 'Pol_News_y', 'FMrkt_News_x', 'TravelAgncs_x', 'BN_News_x', 'SpecialTrvl_x', 'AirTravel_x', 'AirTravel_y', 'Biz_News_x', 'Econ_News_x', 'Pol_News_x'}\n",
      "pvalue: \n",
      " 0.296901157286\n",
      "Critical values: \n",
      " [-3.95596507 -3.36899945 -3.067208  ]\n",
      "EUR/USD vs FMrkt_News_y\n",
      "t-statistic of unit-root test on residuals: \n",
      " {'SpecialTrvl_y', 'TourDest_y', 'Fis_News_x', 'Biz_News_y', 'EUR/USD Close', 'TravelAgncs_y', 'Econ_News_y', 'Fis_News_y', 'TourDest_x', 'BN_News_y', 'FMrkt_News_y', 'Pol_News_y', 'FMrkt_News_x', 'TravelAgncs_x', 'BN_News_x', 'SpecialTrvl_x', 'AirTravel_x', 'AirTravel_y', 'Biz_News_x', 'Econ_News_x', 'Pol_News_x'}\n",
      "pvalue: \n",
      " 0.296901157286\n",
      "Critical values: \n",
      " [-3.95596507 -3.36899945 -3.067208  ]\n",
      "EUR/USD vs Pol_News_y\n",
      "t-statistic of unit-root test on residuals: \n",
      " {'SpecialTrvl_y', 'TourDest_y', 'Fis_News_x', 'Biz_News_y', 'EUR/USD Close', 'TravelAgncs_y', 'Econ_News_y', 'Fis_News_y', 'TourDest_x', 'BN_News_y', 'FMrkt_News_y', 'Pol_News_y', 'FMrkt_News_x', 'TravelAgncs_x', 'BN_News_x', 'SpecialTrvl_x', 'AirTravel_x', 'AirTravel_y', 'Biz_News_x', 'Econ_News_x', 'Pol_News_x'}\n",
      "pvalue: \n",
      " 0.296901157286\n",
      "Critical values: \n",
      " [-3.95596507 -3.36899945 -3.067208  ]\n"
     ]
    }
   ],
   "source": [
    "for series in features:\n",
    "    #_, pvalue, crit = coint(y_train, train_data[series])\n",
    "    print(\"EUR/USD vs {}\".format(series))\n",
    "    print(\"t-statistic of unit-root test on residuals: \\n\", _)\n",
    "    print(\"pvalue: \\n\", pvalue)\n",
    "    print(\"Critical values: \\n\", crit)"
   ]
  }
 ],
 "metadata": {
  "kernelspec": {
   "display_name": "adv_ml",
   "language": "python",
   "name": "adv_ml"
  },
  "language_info": {
   "codemirror_mode": {
    "name": "ipython",
    "version": 3
   },
   "file_extension": ".py",
   "mimetype": "text/x-python",
   "name": "python",
   "nbconvert_exporter": "python",
   "pygments_lexer": "ipython3",
   "version": "3.6.2"
  }
 },
 "nbformat": 4,
 "nbformat_minor": 2
}
